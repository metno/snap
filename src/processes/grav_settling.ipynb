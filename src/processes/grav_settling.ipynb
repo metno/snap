{
 "cells": [
  {
   "cell_type": "markdown",
   "id": "8638779d",
   "metadata": {},
   "source": [
    "# Gravitational settling\n",
    "\n"
   ]
  },
  {
   "cell_type": "markdown",
   "id": "fb9db11c",
   "metadata": {},
   "source": [
    "## eEMEP\n",
    "\n",
    "non-spherical, F=0.8=(d1+d2)/(2*d3)"
   ]
  },
  {
   "cell_type": "code",
   "execution_count": 39,
   "id": "9c7ec1ef",
   "metadata": {},
   "outputs": [],
   "source": [
    "import numpy as np\n",
    "\n",
    "def potential_temperature(tempC, presPa):\n",
    "    return (tempC+273.15)*(100000/presPa)**0.286\n",
    "\n",
    "def monodisperse_terminal_v(diameter,\n",
    "                            density_p, # kg/m3\n",
    "                            pot_temp,\n",
    "                            pressure_mid):\n",
    "\n",
    "    \"\"\"\n",
    "    Calculate monodisperese terminal fall velocity volcanic ash using equations\n",
    "    as used in Steensen (2017) paper from Zannetti (1990) + cunnigham slip factor + drag\n",
    "    coefficient for near spherical particles (F=0.8)\n",
    "    https://gmd.copernicus.org/articles/10/1927/2017/gmd-10-1927-2017.pdf section 2.2.4\n",
    "\n",
    "    inputs: diameter in [m]\n",
    "            density_p [kg/m3]\n",
    "            pot_temp in [K];   array of mid-point pot. temperatures\n",
    "            pressure_mid [Pa]; array of mid-point pressure levels\n",
    "\n",
    "    \"\"\"\n",
    "\n",
    "    r_specific = 287.050\n",
    "    kappa = 0.286\n",
    "    F = 0.8\n",
    "    g = 9.81\n",
    "\n",
    "    temp_abs = pot_temp * np.exp(kappa*np.log(pressure_mid*1e-5))\n",
    "    density_a = pressure_mid / r_specific / temp_abs\n",
    "\n",
    "    temperature = temp_abs - 273.15 # here in celsius\n",
    "    zvis = np.empty(np.shape(temperature))\n",
    "\n",
    "    for index, item in enumerate(temperature): # temperature here in deg. Celsius\n",
    "        if item >= 0:\n",
    "            zvis[index] = (1.718 + 0.0049*item)*1e-5 # [Pa s]\n",
    "        else:\n",
    "            zvis[index] = (1.718 + 0.0049*item - 1.2e-05*(item**2))*1e-5 # [Pa s]\n",
    "\n",
    "    # temperature here in Kelvin\n",
    "    # mean free path of air (Prupp. Klett) in [m], [T] in Kelvin. Eq. 10. 140 2nd edition\n",
    "    zair = 6.6e-8 * (1013.25 / (pressure_mid * 1e-2)) * (temp_abs / 293.15) # [m]\n",
    "\n",
    "\n",
    "# combine equations for terminal fall velocity (v), drag coefficient (C_d), and Reynolds number (Re) into\n",
    "#  a single quadratic expression in v. Equations from doi:10.5194/gmd-10-1927-2017\n",
    "#\n",
    "#  v**2 = (4 * g * ( density_p - density_a) * d ) / (3 * C_d * density_a)\n",
    "#  C_d = (24 / Re) * F**-0.828 + 2 * SQRT(1.07 - F)\n",
    "#  Re = v * density_a * d / zvis\n",
    "#\n",
    "#  Combing the above three expressions yields\n",
    "#\n",
    "# [6 * density_a * SQRT(1.07 - F)] * v**2 + [72 * zvis * F**-0.828 / d] * v + [-4 * g * (density_p - density_a) * d] = 0\n",
    "\n",
    "    quad_a = 6 * density_a * np.sqrt(1.07 - F)\n",
    "    quad_b = 72 * zvis / diameter * F ** -0.828\n",
    "    quad_c = -4 * g * (density_p - density_a) * diameter\n",
    "\n",
    "    zdum = (-quad_b + np.sqrt(quad_b**2 - 4 * quad_a * quad_c)) / (2 * quad_a)\n",
    "\n",
    "    knut = 2 * zair / diameter\n",
    "    v_t = zdum * (1 + 1.257 * knut + 0.4 * np.exp(-1.1 / knut)) # m/s\n",
    "\n",
    "    return v_t\n"
   ]
  },
  {
   "cell_type": "code",
   "execution_count": 40,
   "id": "67ea0178",
   "metadata": {},
   "outputs": [
    {
     "data": {
      "text/plain": [
       "[Text(0.5, 0, 'fall velocity [km/h]'), Text(0, 0.5, 'height [m]')]"
      ]
     },
     "execution_count": 40,
     "metadata": {},
     "output_type": "execute_result"
    },
    {
     "data": {
      "image/png": "[encoded data removed]",
      "text/plain": [
       "<Figure size 432x288 with 1 Axes>"
      ]
     },
     "metadata": {
      "needs_background": "light"
     },
     "output_type": "display_data"
    }
   ],
   "source": [
    "from matplotlib import pyplot as plt\n",
    "\n",
    "std_atmosphere = {\n",
    "    \"height\": np.array([0., 11000., 20000.]),\n",
    "    \"pressure\": np.array([101325., 22632., 5475.]),\n",
    "    \"temperature\": np.array([15., -56.5, -56.5]),\n",
    "}\n",
    "pot_temp = potential_temperature(presPa=std_atmosphere[\"pressure\"], tempC=std_atmosphere[\"temperature\"])\n",
    "\n",
    "fig, ax = plt.subplots()\n",
    "for psize in [10, 20, 50, 100, 200]:\n",
    "    fall_velocities = monodisperse_terminal_v(psize*1e-6,\n",
    "                                            2300,\n",
    "                                            pot_temp,\n",
    "                                            std_atmosphere[\"pressure\"])\n",
    "    ax.plot(fall_velocities*3.6, std_atmosphere[\"height\"],label=f\"{psize}µm\")\n",
    "ax.legend()\n",
    "ax.set(xlabel='fall velocity [km/h]', ylabel=\"height [m]\")\n"
   ]
  },
  {
   "cell_type": "markdown",
   "id": "916c64c2",
   "metadata": {},
   "source": [
    "## SNAP vgrav\n",
    "\n",
    "Zannetti (1990) and RAF (1999)"
   ]
  },
  {
   "cell_type": "code",
   "execution_count": 41,
   "id": "49451b99",
   "metadata": {},
   "outputs": [],
   "source": [
    "\n",
    "def cun(dp):\n",
    "    \"\"\"cunningham factor (Zannetti (1990))\n",
    "    c = 1 + (2*l/dp)*(a1+a2*exp(-a3*dp/l))\n",
    "\n",
    "    :param dp: particle size in µm\n",
    "    \"\"\"\n",
    "    a1=1.257\n",
    "    a2=0.40\n",
    "    a3=0.55\n",
    "    l=0.0653\n",
    "    cun=1.0+(2.0*l/dp)*(a1+a2*np.exp(-a3*dp/l))\n",
    "    return cun\n",
    "\n",
    "def vgrav(dp, rp, pressure, temperature):\n",
    "    \"\"\"snap vgrav function\n",
    "\n",
    "    :param dp: particle size [µm]\n",
    "    :param rp: density [g/cm3]\n",
    "    :param pressure: [hPa]\n",
    "    :param temperature: absolute temp [K]\n",
    "    \"\"\"\n",
    "    # air density, RAF (1999)\n",
    "    rho_air = 0.001*pressure*100/(287.4 * temperature)\n",
    "    # viscosity according to RAFF (1999), Kyle (1991) in poise = g/(cm*s)\n",
    "    visc = 1.72e-4*(393.0/(temperature+120.0))*(temperature/273.0)**1.5\n",
    "    g = 981 # cm/s\n",
    "\n",
    "    vgrav=(dp*0.0001)**2 * g*(rp-rho_air)*cun(dp) / (18.0*visc)\n",
    "    return vgrav\n",
    "\n",
    "\n",
    "def grav_snap(diameter, density_p, temperature, pressure):\n",
    "    \"\"\"\n",
    "    inputs: diameter in [m]\n",
    "            density_p [kg/m3]\n",
    "            temperature in [C]; temperatures\n",
    "            pressure_mid [Pa]; pressure\n",
    "    outputs: speed in [m/s]\n",
    "    \"\"\"\n",
    "    return vgrav(diameter*1e6, density_p/1000, pressure/100, temperature+273.15)*0.01\n",
    "\n",
    "def gravitational_settling(roa, diam, ro_part):\n",
    "    \"\"\"new code implemented for new dry-depositions (surface)\n",
    "\n",
    "    :param roa: air densitiy [kg/m3]\n",
    "    :param diam: diameter in [m]\n",
    "    :param ro_part: particle density [kg/m3]\n",
    "    :return: velocity in [m/s]\n",
    "    \"\"\"\n",
    "    # mean free path in air [m]\n",
    "    lam = 0.065e-6\n",
    "    # gravity [m/s]\n",
    "    grav = 9.8\n",
    "    # Kinematic viscosity of air, m2 s-1 at +15 C\n",
    "    ny = 1.5e-5\n",
    "\n",
    "    my = ny * roa\n",
    "    fac1 = -0.55 * diam / lam\n",
    "    cslip = 1 + 2 * lam / diam * ( 1.257 + 0.4 * np.exp(fac1) )\n",
    "\n",
    "    vs = ro_part * diam * diam * grav * cslip / (18*my)\n",
    "    return vs\n",
    "\n",
    "def v_s_sympy(roa, diam, ro_part, temperature, pressure):\n",
    "    from numpy import sqrt\n",
    "    F = 0.8\n",
    "    d = diam\n",
    "    g = 9.81\n",
    "    ρ_a = roa\n",
    "    ρ_p = ro_part\n",
    "    \n",
    "    # air density, RAF (1999)\n",
    "    rho_air = 0.001*pressure*100/(287.4 * temperature)\n",
    "    \n",
    "    # viscosity according to RAFF (1999), Kyle (1991) in poise = g/(cm*s)\n",
    "    visc = 1.72e-4*(393.0/(temperature+120.0))*(temperature/273.0)**1.5\n",
    "    \n",
    "    η_a = visc * 0.1\n",
    "    \n",
    "    v_settling = F**(-0.828)*((1.0/3.0)*sqrt(6.0)*F**0.828*sqrt(54*F**(-1.656)*η_a**2 - d**3*g*ρ_a*sqrt(1.07 - F)*(ρ_a - ρ_p)) - 6*η_a)/(d*ρ_a*sqrt(1.07 - F))\n",
    "    return v_settling\n"
   ]
  },
  {
   "cell_type": "code",
   "execution_count": null,
   "id": "9c5bdc0f",
   "metadata": {},
   "outputs": [],
   "source": [
    "\n",
    "\n",
    "def generate_code_for_vs():\n",
    "    import sympy\n",
    "    import sympy.utilities.codegen\n",
    "    \n",
    "    alpha, beta, gamma, v_s = sympy.symbols(\"α β γ v_s\", positive=True)\n",
    "\n",
    "    # v_s = alpha * sympy.sqrt(1 / C_d)\n",
    "\n",
    "    eq = (beta / v_s + gamma) - (alpha/v_s)**2\n",
    "\n",
    "    v_s_solution = sympy.solve(eq, v_s)[0]\n",
    "\n",
    "    a, b, c = sympy.symbols(\"a b c\", positive=True)\n",
    "    g, rho_p, rho_a, d, eta_a = sympy.symbols(r\"g ρ_p ρ_a d η_a\", positive=True)\n",
    "\n",
    "    F = (a + b)/(2*c)\n",
    "    F = sympy.symbols(\"F\")\n",
    "    alpha_ = sympy.sqrt(4*g*(rho_p - rho_a)*d/(3*rho_a))\n",
    "    beta_ = 24*eta_a / (rho_a * d) * F**-0.828\n",
    "    gamma_ = 2*sympy.sqrt(1.07 - F)\n",
    "\n",
    "    substituted = v_s_solution.subs(alpha, alpha_).subs(beta, beta_).subs(gamma, gamma_).simplify()\n",
    "\n",
    "    sympy.pprint(substituted)\n",
    "\n",
    "    _codegenned = sympy.utilities.codegen.codegen((\"v_settling\", substituted), \"F95\", to_files=\"v_settled\")\n"
   ]
  },
  {
   "cell_type": "code",
   "execution_count": 42,
   "id": "4ca78f5f",
   "metadata": {},
   "outputs": [
    {
     "data": {
      "text/plain": [
       "[Text(0.5, 0, 'fall velocity [km/h]'), Text(0, 0.5, 'height [m]')]"
      ]
     },
     "execution_count": 42,
     "metadata": {},
     "output_type": "execute_result"
    },
    {
     "data": {
      "image/png": "[encoded data removed]",
      "text/plain": [
       "<Figure size 432x288 with 1 Axes>"
      ]
     },
     "metadata": {
      "needs_background": "light"
     },
     "output_type": "display_data"
    }
   ],
   "source": [
    "\n",
    "fig, ax = plt.subplots()\n",
    "psizes = [10, 20, 50, 100, 200]\n",
    "for psize in psizes:\n",
    "    fall_velocities = grav_snap(psize*1e-6,\n",
    "                                2300,\n",
    "                                std_atmosphere[\"temperature\"],\n",
    "                                std_atmosphere[\"pressure\"])\n",
    "    ax.plot(fall_velocities*3.6, std_atmosphere[\"height\"],label=f\"{psize}µm\")\n",
    "ax.set_prop_cycle(None)\n",
    "for psize in psizes:\n",
    "    rho_air = 101325/(287.4 * (15+273.15))\n",
    "    ax.plot(gravitational_settling(rho_air, psize*1e-6, 2300)*3.6, 0, 'x', label=f\"{psize}µm\")\n",
    "ax.set_prop_cycle(None)\n",
    "for psize in psizes:\n",
    "    fall_velocities = v_s_sympy(rho_air, psize*1e-6, 2300, std_atmosphere[\"temperature\"]+273.15, std_atmosphere[\"pressure\"])\n",
    "    ax.plot(fall_velocities*3.6, std_atmosphere[\"height\"], '--', label=f\"Ash {psize}µm\")\n",
    "    \n",
    "ax.legend()\n",
    "ax.set(xlabel='fall velocity [km/h]', ylabel=\"height [m]\")\n",
    "\n"
   ]
  },
  {
   "cell_type": "markdown",
   "id": "a2234534",
   "metadata": {},
   "source": [
    "## Dynamic viscosity\n",
    "\n",
    "### eEMEP\n",
    "after https://pub.deadnet.se/Books_and_manuals_on_various_stuff/Geology/Microphysics%20of%20Clouds%20and%20Precipitation%202nd%20ed%20-%20H.%20Pruppacher%2C%20J.%20Klett%20%28Kluwer%2C%201997%29%20WW.pdf eq. 10-141a/b"
   ]
  },
  {
   "cell_type": "code",
   "execution_count": 43,
   "id": "bc1ca79d",
   "metadata": {},
   "outputs": [],
   "source": [
    "def visc_eemep(t):\n",
    "    \"\"\"dynamic viscosity in poise after Pruppacher-Klett\n",
    "    Microphysics of Clounds and Precipitaiton, eq. 10-141a/b\n",
    "\n",
    "    :param t: temperature [°C]\n",
    "    :return: viscosity in [Pa s = 10 poise]\n",
    "    \"\"\"\n",
    "\n",
    "    if t >= 0:\n",
    "        vis = (1.718 + 0.0049*t)*1e-5 # [Pa s]\n",
    "    else:\n",
    "        vis = (1.718 + 0.0049*t - 1.2e-05*(t**2))*1e-5 # [Pa s]\n",
    "\n",
    "    return vis\n"
   ]
  },
  {
   "cell_type": "markdown",
   "id": "86ef30fb",
   "metadata": {},
   "source": [
    "### SNAP\n",
    "\n"
   ]
  },
  {
   "cell_type": "code",
   "execution_count": 44,
   "id": "2ac0d8ed",
   "metadata": {},
   "outputs": [
    {
     "data": {
      "text/plain": [
       "<matplotlib.legend.Legend at 0x767c0f4d2500>"
      ]
     },
     "execution_count": 44,
     "metadata": {},
     "output_type": "execute_result"
    },
    {
     "data": {
      "image/png": "[encoded data removed]",
      "text/plain": [
       "<Figure size 432x288 with 1 Axes>"
      ]
     },
     "metadata": {
      "needs_background": "light"
     },
     "output_type": "display_data"
    }
   ],
   "source": [
    "def visc_snap(t):\n",
    "    t_K = t+273.15\n",
    "    visc = 1.72e-4*(393.0/(t_K+120.0))*(t_K/273.0)**1.5 # poise\n",
    "    return visc/10 # Pa s\n",
    "\n",
    "temps = np.arange(-80,40,1)\n",
    "ny_eemep = [visc_eemep(t) for t in temps]\n",
    "plt.plot(temps, ny_eemep, label=\"visc eEMEP [Pa s]\")\n",
    "temps = np.arange(-80,40,1)\n",
    "ny = [visc_snap(t) for t in temps]\n",
    "plt.plot(temps, ny, label=\"visc SNAP [Pa s]\")\n",
    "plt.legend()\n"
   ]
  },
  {
   "cell_type": "code",
   "execution_count": null,
   "id": "01536436",
   "metadata": {},
   "outputs": [],
   "source": []
  }
 ],
 "metadata": {
  "kernelspec": {
   "display_name": "Python 3 (ipykernel)",
   "language": "python",
   "name": "python3"
  },
  "language_info": {
   "codemirror_mode": {
    "name": "ipython",
    "version": 3
   },
   "file_extension": ".py",
   "mimetype": "text/x-python",
   "name": "python",
   "nbconvert_exporter": "python",
   "pygments_lexer": "ipython3",
   "version": "3.10.12"
  }
 },
 "nbformat": 4,
 "nbformat_minor": 5
}
